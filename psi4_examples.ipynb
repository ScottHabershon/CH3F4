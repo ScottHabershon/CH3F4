{
 "cells": [
  {
   "cell_type": "markdown",
   "metadata": {},
   "source": [
    "# Examples of psi-4 usage for CH3F4 workshop\n",
    "\n",
    "This Jupyter notebook contains several examples to illustrate use of the Psi-4 quantum chemistry package in running ab initio calculations. These examples can be used to complete the associated CH3F4 computational chemistry workshop; you may also find it useful to use the Avogadro code to create molecular structures and generate molecular coordinates.\n",
    "\n",
    "In all of the following examples, a single water molecule is chosen as a convenient example molecular system. Of course, these code snippets could be used to perform calculations for other molecular systems by simply changing the coordinates.\n",
    "\n",
    "Examples included here are: \n",
    "\n",
    "1. Hartree-Fock energy calculation;\n",
    "2. DFT energy calculation; \n",
    "3. Hartree-Fock geometry optimization; \n",
    "4. Outputting useful information; \n",
    "5. Normal-mode analysis using DFT;\n",
    "6. Transition-state optimization;\n",
    "7. Examples of visualization using ASE;\n",
    "8. Alternative geometry definitions."
   ]
  },
  {
   "cell_type": "markdown",
   "metadata": {},
   "source": [
    "## Calculation set-up\n",
    "\n",
    "This is important - before we run any calculations, we need to import the packages that we're going to use; if we skip this step, nothing will work!\n",
    "\n",
    "Note that you need to make sure that these packages are loaded before you run any calculations - it's best practice to place these packages somewhere near the top of your workbook, and to re-run these cells whenever you re-open your workbook."
   ]
  },
  {
   "cell_type": "code",
   "execution_count": 1,
   "metadata": {},
   "outputs": [],
   "source": [
    "# Import the psi4 package - required to run the calculations!\n",
    "import psi4\n",
    "psi4.set_memory('1 GB');"
   ]
  },
  {
   "cell_type": "code",
   "execution_count": 2,
   "metadata": {},
   "outputs": [],
   "source": [
    "# Import ASE for viewing....\n",
    "# import ase\n",
    "from ase import io\n",
    "from ase.visualize import view"
   ]
  },
  {
   "cell_type": "code",
   "execution_count": 3,
   "metadata": {},
   "outputs": [],
   "source": [
    "# Import numpy - not explicitly used here, but just a placeholder.\n",
    "import numpy as np\n",
    "\n",
    "# Import matplotlib.\n",
    "from pylab import *\n",
    "import matplotlib.pyplot as plt"
   ]
  },
  {
   "cell_type": "markdown",
   "metadata": {},
   "source": [
    "## Example 1: Hartree-Fock energy calculation\n",
    "\n",
    "This is a standard Hartree-Fock calculation for a single water molecule, with the geometry defined using the Cartesian (x,y,z) coordinates of each atom (in Angstroms)."
   ]
  },
  {
   "cell_type": "code",
   "execution_count": 4,
   "metadata": {},
   "outputs": [
    {
     "name": "stdout",
     "output_type": "stream",
     "text": [
      "The HF energy is  -76.025016500358  Hartrees \n"
     ]
    }
   ],
   "source": [
    "# Sample HF calculation with a cc-pVDZ basis set. \n",
    "#\n",
    "\n",
    "h2o = psi4.geometry(\"\"\"\n",
    "O       -0.9228114122      0.9383318842      0.0000000000                 \n",
    "H        0.0471885878      0.9383318842      0.0000000000                 \n",
    "H       -1.2461412239      0.0789766302     -0.3128360279 \n",
    "\"\"\")\n",
    "\n",
    "E = psi4.energy('hf/cc-pvdz')\n",
    "print('The HF energy is ',E,' Hartrees ')"
   ]
  },
  {
   "cell_type": "markdown",
   "metadata": {},
   "source": [
    "## Example 2: DFT energy calculation\n",
    "\n",
    "This is similar to the above, but now we're performing a DFT calculation with the B3LYP exchange-correlation functional."
   ]
  },
  {
   "cell_type": "code",
   "execution_count": 5,
   "metadata": {},
   "outputs": [
    {
     "name": "stdout",
     "output_type": "stream",
     "text": [
      "The DFT(B3LYP) energy is  -76.41951664302601  Hartrees \n"
     ]
    }
   ],
   "source": [
    "# Sample DFT B3LYP calculation with a cc-pVDZ basis set. \n",
    "#\n",
    "\n",
    "h2o = psi4.geometry(\"\"\"\n",
    "O       -0.9228114122      0.9383318842      0.0000000000                 \n",
    "H        0.0471885878      0.9383318842      0.0000000000                 \n",
    "H       -1.2461412239      0.0789766302     -0.3128360279 \n",
    "\"\"\")\n",
    "\n",
    "E = psi4.energy('b3lyp/cc-pvdz')\n",
    "print('The DFT(B3LYP) energy is ',E,' Hartrees ')"
   ]
  },
  {
   "cell_type": "markdown",
   "metadata": {},
   "source": [
    "## Example 3: HF geometry optimization\n",
    "\n",
    "Here, we perform a geometry optimization calculation using Hartree-Fock and a cc-pVDZ basis set."
   ]
  },
  {
   "cell_type": "code",
   "execution_count": 6,
   "metadata": {},
   "outputs": [
    {
     "name": "stdout",
     "output_type": "stream",
     "text": [
      "Optimizer: Optimization complete!\n"
     ]
    },
    {
     "data": {
      "text/plain": [
       "-76.0270327810208"
      ]
     },
     "execution_count": 6,
     "metadata": {},
     "output_type": "execute_result"
    }
   ],
   "source": [
    "# Sample HF geometry optimization. \n",
    "\n",
    "h2o = psi4.geometry(\"\"\"\n",
    "O       -0.9228114122      0.9383318842      0.0000000000                 \n",
    "H        0.0471885878      0.9383318842      0.0000000000                 \n",
    "H       -1.2461412239      0.0789766302     -0.3128360279 \n",
    "\"\"\")\n",
    "psi4.optimize('hf/cc-pvdz')"
   ]
  },
  {
   "cell_type": "code",
   "execution_count": 7,
   "metadata": {},
   "outputs": [
    {
     "name": "stdout",
     "output_type": "stream",
     "text": [
      "Optimizer: Optimization complete!\n"
     ]
    },
    {
     "data": {
      "text/plain": [
       "-76.02703278102084"
      ]
     },
     "execution_count": 7,
     "metadata": {},
     "output_type": "execute_result"
    }
   ],
   "source": [
    "# Note that, if we have a previously defined molecule (defined as a psi4.geometry)\n",
    "# we can also invoke the geometry optimization using....\n",
    "\n",
    "psi4.optimize('hf/cc-pvdz',mol=h2o)"
   ]
  },
  {
   "cell_type": "markdown",
   "metadata": {},
   "source": [
    "## Example 4: Getting useful output\n",
    "\n",
    "In the examples above, we just see the final energy values being printed out - it's obviously more useful to have access to more of the information that's created during a calculation. Here, we'll look at some examples."
   ]
  },
  {
   "cell_type": "code",
   "execution_count": 8,
   "metadata": {},
   "outputs": [],
   "source": [
    "# We can set an output filename where useful information is stored using the following:\n",
    "\n",
    "psi4.core.set_output_file('output.dat')\n",
    "\n",
    "# Note that 'output.dat' can be any string you'd like - for example, you can have different output \n",
    "# files for different calculations.\n"
   ]
  },
  {
   "cell_type": "code",
   "execution_count": 9,
   "metadata": {},
   "outputs": [
    {
     "name": "stdout",
     "output_type": "stream",
     "text": [
      "Optimizer: Optimization complete!\n"
     ]
    },
    {
     "data": {
      "text/plain": [
       "-76.02703278102088"
      ]
     },
     "execution_count": 9,
     "metadata": {},
     "output_type": "execute_result"
    }
   ],
   "source": [
    "# Let's now run the Hartree-Fock geometry optimization again....you should get a file\n",
    "# called output.dat created in this same directory where you're running the calculation.\n",
    "psi4.optimize('hf/cc-pvdz',mol=h2o)"
   ]
  },
  {
   "cell_type": "code",
   "execution_count": 10,
   "metadata": {},
   "outputs": [
    {
     "name": "stdout",
     "output_type": "stream",
     "text": [
      "Optimizer: Optimization complete!\n"
     ]
    },
    {
     "data": {
      "text/plain": [
       "-76.42064524507114"
      ]
     },
     "execution_count": 10,
     "metadata": {},
     "output_type": "execute_result"
    }
   ],
   "source": [
    "# Let's do a DFT geometry optimization - to avoid over-writing my exisiting output.dat,\n",
    "# I'm going to make a new output file....\n",
    "psi4.core.set_output_file('output_DFT.dat')\n",
    "psi4.optimize('b3lyp/cc-pvdz',mol=h2o)\n",
    "\n"
   ]
  },
  {
   "cell_type": "markdown",
   "metadata": {},
   "source": [
    "After running the HF and DFT calculations above, you should have output files called 'output.dat' and 'output_DFT.dat' - open these and have a look at what's in there. How much of the calculation process do you understand based on the HF and DFT lectures?"
   ]
  },
  {
   "cell_type": "code",
   "execution_count": 11,
   "metadata": {},
   "outputs": [
    {
     "name": "stdout",
     "output_type": "stream",
     "text": [
      "* Geometry BEFORE optimization...\n",
      "0 1\n",
      " O   -0.000000000000    0.000000000000    0.062675830414\n",
      " H    0.792000605234    0.000000000000   -0.497355455624\n",
      " H   -0.792000605234   -0.000000000000   -0.497355455624\n",
      "\n",
      "Optimizer: Optimization complete!\n",
      "\n",
      "* Geometry AFTER optimization...\n",
      "0 1\n",
      " O    0.000000000000   -0.000000000000    0.064748966298\n",
      " H    0.748773780078    0.000000000000   -0.513806541077\n",
      " H   -0.748773780078   -0.000000000000   -0.513806541077\n",
      "\n"
     ]
    }
   ],
   "source": [
    "# This example shows how we can print out the atomic coordinates in Angstroms.\n",
    "\n",
    "# First, let's reset the input H2O molecule geometry to the original geometry.\n",
    "\n",
    "psi4.core.set_output_file('geometry_optimization.dat')\n",
    "\n",
    "h2o = psi4.geometry(\"\"\"\n",
    "O       -0.9228114122      0.9383318842      0.0000000000                 \n",
    "H        0.0471885878      0.9383318842      0.0000000000                 \n",
    "H       -1.2461412239      0.0789766302     -0.3128360279 \n",
    "\"\"\")\n",
    "\n",
    "# Let's print this out to the screen....\n",
    "print(\"* Geometry BEFORE optimization...\")\n",
    "print( h2o.save_string_xyz() )\n",
    "\n",
    "psi4.optimize('hf/cc-pvdz', molecule = h2o)\n",
    "\n",
    "print(\"\\n* Geometry AFTER optimization...\")\n",
    "print( h2o.save_string_xyz() )\n"
   ]
  },
  {
   "cell_type": "markdown",
   "metadata": {},
   "source": [
    "You can see the page here: http://www.psicode.org/psi4manual/master/api/psi4.core.Molecule.html\n",
    "to see more routines which can be used to inquire about molecules. "
   ]
  },
  {
   "cell_type": "code",
   "execution_count": 12,
   "metadata": {
    "scrolled": true
   },
   "outputs": [
    {
     "name": "stdout",
     "output_type": "stream",
     "text": [
      "None\n",
      "* XYZ coordinates of second atom are:  [ 1.41498, 4.33212e-17, -0.970954 ]\n"
     ]
    }
   ],
   "source": [
    "# Further examples - note that these outputs will be printed to 'output_test.dat'.\n",
    "\n",
    "psi4.core.set_output_file('output_test.dat')\n",
    "\n",
    "# Calculates the NxN distance matrix in Bohr - i.e. outputs distance between all pairs of atoms.\n",
    "M = h2o.distance_matrix();\n",
    "print( M.print_out() );\n",
    "\n",
    "# Output atomic coordinates of a specific atom (reminder: numbering beings at zero in Python)\n",
    "print('* XYZ coordinates of second atom are: ', h2o.xyz(1))\n"
   ]
  },
  {
   "cell_type": "markdown",
   "metadata": {},
   "source": [
    "## Example 5: Frequency calculation\n",
    "\n",
    "In this example, we'll perform a normal-mode analysis for our H2O molecule, giving the vibrational frequencies. "
   ]
  },
  {
   "cell_type": "code",
   "execution_count": 13,
   "metadata": {},
   "outputs": [
    {
     "name": "stdout",
     "output_type": "stream",
     "text": [
      "Optimizer: Optimization complete!\n"
     ]
    },
    {
     "data": {
      "text/plain": [
       "-76.02703278102084"
      ]
     },
     "execution_count": 13,
     "metadata": {},
     "output_type": "execute_result"
    }
   ],
   "source": [
    "# Set the output file for this calculation.\n",
    "psi4.core.set_output_file('frequencies.dat')\n",
    "\n",
    "# Set the geometry....\n",
    "h2o = psi4.geometry(\"\"\"\n",
    "O       -0.9228114122      0.9383318842      0.0000000000                 \n",
    "H        0.0471885878      0.9383318842      0.0000000000                 \n",
    "H       -1.2461412239      0.0789766302     -0.3128360279 \n",
    "\"\"\")\n",
    "\n",
    "# Optimize the geometry using HF/cc-pVDZ.\n",
    "psi4.optimize('hf/cc-pvdz', molecule = h2o)\n",
    "\n",
    "# Calculate the frequencies - note that this is performed for the optimized geometry given\n",
    "# by the above routine.\n",
    "psi4.frequencies('hf/cc-pvdz', molecule = h2o)"
   ]
  },
  {
   "cell_type": "markdown",
   "metadata": {},
   "source": [
    "After running the above, have a look in 'frequencies.dat'. If you scroll all the way to the bottom, you should be able to find the three harmonic vibrational frequencies for H2O.\n",
    "\n",
    "You can also find the thermochemistry calculation at the bottom of the 'frequencies.dat'!"
   ]
  },
  {
   "cell_type": "markdown",
   "metadata": {},
   "source": [
    "## Example 6: Transition-state optimization\n",
    "\n",
    "In this example, we'll look at the transition-state optimization for the reaction of NO2 with ethene. The initial geometry (tsmol) is a good approximation of the transition-state; output is sent to TSopt.dat.\n",
    "\n",
    "Note that the TSopt.dat file contains the output and, at the bottom, contains details on the thermochemistry and frequency calculation. You should check that one of the vibrational frequencies is imaginary (should be about 2183i cm-1) - this is an indicator that there was a single negative frequency (eigenvalue) in the Hessian.\n"
   ]
  },
  {
   "cell_type": "code",
   "execution_count": 14,
   "metadata": {},
   "outputs": [
    {
     "name": "stdout",
     "output_type": "stream",
     "text": [
      "Optimizer: Optimization complete!\n",
      "Warning: thermodynamics relations excluded imaginary frequencies: ['2183.9572i']\n"
     ]
    },
    {
     "data": {
      "text/plain": [
       "-113.62977752436898"
      ]
     },
     "execution_count": 14,
     "metadata": {},
     "output_type": "execute_result"
    }
   ],
   "source": [
    "psi4.core.set_output_file('TSopt.dat')\n",
    "tsmol = psi4.geometry(\"\"\"\n",
    "  C   0.00288769176631      0.14234132324571     -0.00000000534925\n",
    "  O   1.14977129175014     -0.01062150758604      0.00000000212064\n",
    "  H   -0.89961837469095     -1.33546412611440      0.00000084033018\n",
    "  H   -1.07846840882550     -0.03660121954528      0.00000027289843\n",
    "\"\"\")\n",
    "\n",
    "# TS optimization\n",
    "psi4.set_options({'opt_type': 'ts'})\n",
    "psi4.optimize('hf/6-31g')\n",
    "\n",
    "# Frequency calculation to confirm imaginary frequency in Hessian.\n",
    "\n",
    "psi4.frequencies('hf/6-31g')"
   ]
  },
  {
   "cell_type": "markdown",
   "metadata": {},
   "source": [
    "## Example 7: Visualization using ASE\n",
    "\n",
    "In this example, we'll simply render the tsmol molecule generated by the TS search above. We do this in three steps:\n",
    "- First, output the tsmol object to an xyz file.\n",
    "- Second, we read in the ts.xyz file into an ASE object.\n",
    "- Third, we use ASE's view facility.\n",
    "\n"
   ]
  },
  {
   "cell_type": "code",
   "execution_count": 15,
   "metadata": {},
   "outputs": [
    {
     "data": {
      "text/html": [
       "<html>\n",
       "\n",
       " <head>\n",
       "\n",
       "  <title>ASE atomic visualization</title>\n",
       "\n",
       "  <link rel=\"stylesheet\" type=\"text/css\"\n",
       "\n",
       "   href=\"https://www.x3dom.org/x3dom/release/x3dom.css\">\n",
       "\n",
       "  </link>\n",
       "\n",
       "  <script type=\"text/javascript\"\n",
       "\n",
       "   src=\"https://www.x3dom.org/x3dom/release/x3dom.js\">\n",
       "\n",
       "  </script>\n",
       "\n",
       " </head>\n",
       "\n",
       " <body>\n",
       "\n",
       "  <X3D>\n",
       "\n",
       "   <Scene>\n",
       "\n",
       "    <Transform translation=\"-0.54 0.14 0.00\">\n",
       "\n",
       "     <Shape>\n",
       "\n",
       "      <Appearance>\n",
       "\n",
       "       <Material diffuseColor=\"0.565 0.565 0.565\" specularColor=\"0.5 0.5 0.5\">\n",
       "\n",
       "       </Material>\n",
       "\n",
       "      </Appearance>\n",
       "\n",
       "      <Sphere radius=\"0.76\">\n",
       "\n",
       "      </Sphere>\n",
       "\n",
       "     </Shape>\n",
       "\n",
       "    </Transform>\n",
       "\n",
       "    <Transform translation=\"0.60 -0.02 -0.00\">\n",
       "\n",
       "     <Shape>\n",
       "\n",
       "      <Appearance>\n",
       "\n",
       "       <Material diffuseColor=\"1.000 0.051 0.051\" specularColor=\"0.5 0.5 0.5\">\n",
       "\n",
       "       </Material>\n",
       "\n",
       "      </Appearance>\n",
       "\n",
       "      <Sphere radius=\"0.66\">\n",
       "\n",
       "      </Sphere>\n",
       "\n",
       "     </Shape>\n",
       "\n",
       "    </Transform>\n",
       "\n",
       "    <Transform translation=\"-1.45 -1.34 -0.01\">\n",
       "\n",
       "     <Shape>\n",
       "\n",
       "      <Appearance>\n",
       "\n",
       "       <Material diffuseColor=\"1.000 1.000 1.000\" specularColor=\"0.5 0.5 0.5\">\n",
       "\n",
       "       </Material>\n",
       "\n",
       "      </Appearance>\n",
       "\n",
       "      <Sphere radius=\"0.31\">\n",
       "\n",
       "      </Sphere>\n",
       "\n",
       "     </Shape>\n",
       "\n",
       "    </Transform>\n",
       "\n",
       "    <Transform translation=\"-1.63 -0.04 0.00\">\n",
       "\n",
       "     <Shape>\n",
       "\n",
       "      <Appearance>\n",
       "\n",
       "       <Material diffuseColor=\"1.000 1.000 1.000\" specularColor=\"0.5 0.5 0.5\">\n",
       "\n",
       "       </Material>\n",
       "\n",
       "      </Appearance>\n",
       "\n",
       "      <Sphere radius=\"0.31\">\n",
       "\n",
       "      </Sphere>\n",
       "\n",
       "     </Shape>\n",
       "\n",
       "    </Transform>\n",
       "\n",
       "   </Scene>\n",
       "\n",
       "  </X3D>\n",
       "\n",
       " </body>\n",
       "\n",
       "</html>\n",
       "\n"
      ],
      "text/plain": [
       "<IPython.core.display.HTML object>"
      ]
     },
     "execution_count": 15,
     "metadata": {},
     "output_type": "execute_result"
    }
   ],
   "source": [
    "# First save the molecule tsmol to a file called ts.xyz...\n",
    "\n",
    "tsmol.save_xyz_file('ts.xyz',True)\n",
    "\n",
    "# Next load ts.xyz as an ASE atoms object...\n",
    "\n",
    "m = io.read('ts.xyz')\n",
    "\n",
    "# ...and now view it! (Note that this all relies on loading ASE \n",
    "# right at the top of the workbook).\n",
    "\n",
    "view(m,viewer='x3d')\n",
    "\n",
    "# You should now see a figure below showing the transition-state geometry.\n"
   ]
  },
  {
   "cell_type": "code",
   "execution_count": null,
   "metadata": {},
   "outputs": [],
   "source": []
  },
  {
   "cell_type": "markdown",
   "metadata": {},
   "source": [
    "## Example 8: Alternative molecular geometry definition\n",
    "\n",
    "In all of the examples above, we've defined our input molecular geometry using atomic Cartesian coordinates. That is, we've given the (x,y,z) coordinate of each atom in the structure.\n",
    "\n",
    "An alternative structure definition which can be used is the Z-matrix (https://en.wikipedia.org/wiki/Z-matrix_(chemistry). Here, the molecule is defined using a set of interatomic distances, bond angles and torsion angles. \n",
    "\n",
    "The geometric information contained in the Cartesian and Z-matrix representations - however, Z-matrix representation is often more useful, for example when scanning over internal coordinates such as a torsion angle. \n",
    "\n",
    "Below is an example calculation where the geometry is defined as a Z-matrix.\n"
   ]
  },
  {
   "cell_type": "code",
   "execution_count": 16,
   "metadata": {},
   "outputs": [
    {
     "name": "stdout",
     "output_type": "stream",
     "text": [
      "The HF energy is  -76.02583436101241  Hartrees \n"
     ]
    }
   ],
   "source": [
    "# Define a new water molecule using a Z-matrix. The two OH bond lengths are set here \n",
    "# as 0.97 Angstroms, and the bond angle is 104.5 degrees....\n",
    "\n",
    "h2o_Zmatrix = psi4.geometry(\"\"\"\n",
    "   O\n",
    "   H 1 0.97\n",
    "   H 1 0.97 2 105.0\n",
    "\"\"\")\n",
    "E = psi4.energy('hf/cc-pvdz', molecule = h2o_Zmatrix)\n",
    "print('The HF energy is ',E,' Hartrees ')\n"
   ]
  },
  {
   "cell_type": "code",
   "execution_count": 17,
   "metadata": {},
   "outputs": [
    {
     "name": "stdout",
     "output_type": "stream",
     "text": [
      "The HF energy is  -150.7738832670609  Hartrees \n"
     ]
    }
   ],
   "source": [
    "# Another example - this is HOOH, with a torsion angle of 0 degrees (so the two hydrogen\n",
    "# atoms are eclipsed).\n",
    "#\n",
    "hooh = psi4.geometry(\"\"\"\n",
    "   symmetry c1\n",
    "   H\n",
    "   O 1 0.946347\n",
    "   O 2 1.397780 1  107.243777\n",
    "   H 3 0.946347 2  107.243777   1 0.0\n",
    "\"\"\")\n",
    "\n",
    "E = psi4.energy('hf/cc-pvdz', molecule = hooh)\n",
    "print('The HF energy is ',E,' Hartrees ')\n"
   ]
  },
  {
   "cell_type": "code",
   "execution_count": 18,
   "metadata": {},
   "outputs": [
    {
     "data": {
      "text/html": [
       "<html>\n",
       "\n",
       " <head>\n",
       "\n",
       "  <title>ASE atomic visualization</title>\n",
       "\n",
       "  <link rel=\"stylesheet\" type=\"text/css\"\n",
       "\n",
       "   href=\"https://www.x3dom.org/x3dom/release/x3dom.css\">\n",
       "\n",
       "  </link>\n",
       "\n",
       "  <script type=\"text/javascript\"\n",
       "\n",
       "   src=\"https://www.x3dom.org/x3dom/release/x3dom.js\">\n",
       "\n",
       "  </script>\n",
       "\n",
       " </head>\n",
       "\n",
       " <body>\n",
       "\n",
       "  <X3D>\n",
       "\n",
       "   <Scene>\n",
       "\n",
       "    <Transform translation=\"0.00 0.98 -0.85\">\n",
       "\n",
       "     <Shape>\n",
       "\n",
       "      <Appearance>\n",
       "\n",
       "       <Material diffuseColor=\"1.000 1.000 1.000\" specularColor=\"0.5 0.5 0.5\">\n",
       "\n",
       "       </Material>\n",
       "\n",
       "      </Appearance>\n",
       "\n",
       "      <Sphere radius=\"0.31\">\n",
       "\n",
       "      </Sphere>\n",
       "\n",
       "     </Shape>\n",
       "\n",
       "    </Transform>\n",
       "\n",
       "    <Transform translation=\"0.00 0.70 0.05\">\n",
       "\n",
       "     <Shape>\n",
       "\n",
       "      <Appearance>\n",
       "\n",
       "       <Material diffuseColor=\"1.000 0.051 0.051\" specularColor=\"0.5 0.5 0.5\">\n",
       "\n",
       "       </Material>\n",
       "\n",
       "      </Appearance>\n",
       "\n",
       "      <Sphere radius=\"0.66\">\n",
       "\n",
       "      </Sphere>\n",
       "\n",
       "     </Shape>\n",
       "\n",
       "    </Transform>\n",
       "\n",
       "    <Transform translation=\"0.00 -0.70 0.05\">\n",
       "\n",
       "     <Shape>\n",
       "\n",
       "      <Appearance>\n",
       "\n",
       "       <Material diffuseColor=\"1.000 0.051 0.051\" specularColor=\"0.5 0.5 0.5\">\n",
       "\n",
       "       </Material>\n",
       "\n",
       "      </Appearance>\n",
       "\n",
       "      <Sphere radius=\"0.66\">\n",
       "\n",
       "      </Sphere>\n",
       "\n",
       "     </Shape>\n",
       "\n",
       "    </Transform>\n",
       "\n",
       "    <Transform translation=\"0.00 -0.98 -0.85\">\n",
       "\n",
       "     <Shape>\n",
       "\n",
       "      <Appearance>\n",
       "\n",
       "       <Material diffuseColor=\"1.000 1.000 1.000\" specularColor=\"0.5 0.5 0.5\">\n",
       "\n",
       "       </Material>\n",
       "\n",
       "      </Appearance>\n",
       "\n",
       "      <Sphere radius=\"0.31\">\n",
       "\n",
       "      </Sphere>\n",
       "\n",
       "     </Shape>\n",
       "\n",
       "    </Transform>\n",
       "\n",
       "   </Scene>\n",
       "\n",
       "  </X3D>\n",
       "\n",
       " </body>\n",
       "\n",
       "</html>\n",
       "\n"
      ],
      "text/plain": [
       "<IPython.core.display.HTML object>"
      ]
     },
     "execution_count": 18,
     "metadata": {},
     "output_type": "execute_result"
    }
   ],
   "source": [
    "# Let's have a look at the molecule....\n",
    "\n",
    "hooh.save_xyz_file('hooh_1.xyz',True)\n",
    "m = io.read('hooh_1.xyz')\n",
    "view(m,viewer='x3d')"
   ]
  },
  {
   "cell_type": "code",
   "execution_count": 19,
   "metadata": {
    "scrolled": true
   },
   "outputs": [
    {
     "name": "stdout",
     "output_type": "stream",
     "text": [
      "The HF energy is  -150.78153749772764  Hartrees \n"
     ]
    }
   ],
   "source": [
    "# Now let's change the torsion angle to 180 degrees....\n",
    "hooh = psi4.geometry(\"\"\"\n",
    "   symmetry c1\n",
    "   H\n",
    "   O 1 0.946347\n",
    "   O 2 1.397780 1  107.243777\n",
    "   H 3 0.946347 2  107.243777   1 180.0\n",
    "\"\"\")\n",
    "\n",
    "E = psi4.energy('hf/cc-pvdz', molecule = hooh)\n",
    "print('The HF energy is ',E,' Hartrees ')"
   ]
  },
  {
   "cell_type": "code",
   "execution_count": 20,
   "metadata": {
    "scrolled": true
   },
   "outputs": [
    {
     "data": {
      "text/html": [
       "<html>\n",
       "\n",
       " <head>\n",
       "\n",
       "  <title>ASE atomic visualization</title>\n",
       "\n",
       "  <link rel=\"stylesheet\" type=\"text/css\"\n",
       "\n",
       "   href=\"https://www.x3dom.org/x3dom/release/x3dom.css\">\n",
       "\n",
       "  </link>\n",
       "\n",
       "  <script type=\"text/javascript\"\n",
       "\n",
       "   src=\"https://www.x3dom.org/x3dom/release/x3dom.js\">\n",
       "\n",
       "  </script>\n",
       "\n",
       " </head>\n",
       "\n",
       " <body>\n",
       "\n",
       "  <X3D>\n",
       "\n",
       "   <Scene>\n",
       "\n",
       "    <Transform translation=\"-0.67 1.15 0.00\">\n",
       "\n",
       "     <Shape>\n",
       "\n",
       "      <Appearance>\n",
       "\n",
       "       <Material diffuseColor=\"1.000 1.000 1.000\" specularColor=\"0.5 0.5 0.5\">\n",
       "\n",
       "       </Material>\n",
       "\n",
       "      </Appearance>\n",
       "\n",
       "      <Sphere radius=\"0.31\">\n",
       "\n",
       "      </Sphere>\n",
       "\n",
       "     </Shape>\n",
       "\n",
       "    </Transform>\n",
       "\n",
       "    <Transform translation=\"-0.67 0.21 0.00\">\n",
       "\n",
       "     <Shape>\n",
       "\n",
       "      <Appearance>\n",
       "\n",
       "       <Material diffuseColor=\"1.000 0.051 0.051\" specularColor=\"0.5 0.5 0.5\">\n",
       "\n",
       "       </Material>\n",
       "\n",
       "      </Appearance>\n",
       "\n",
       "      <Sphere radius=\"0.66\">\n",
       "\n",
       "      </Sphere>\n",
       "\n",
       "     </Shape>\n",
       "\n",
       "    </Transform>\n",
       "\n",
       "    <Transform translation=\"0.67 -0.21 0.00\">\n",
       "\n",
       "     <Shape>\n",
       "\n",
       "      <Appearance>\n",
       "\n",
       "       <Material diffuseColor=\"1.000 0.051 0.051\" specularColor=\"0.5 0.5 0.5\">\n",
       "\n",
       "       </Material>\n",
       "\n",
       "      </Appearance>\n",
       "\n",
       "      <Sphere radius=\"0.66\">\n",
       "\n",
       "      </Sphere>\n",
       "\n",
       "     </Shape>\n",
       "\n",
       "    </Transform>\n",
       "\n",
       "    <Transform translation=\"0.67 -1.15 0.00\">\n",
       "\n",
       "     <Shape>\n",
       "\n",
       "      <Appearance>\n",
       "\n",
       "       <Material diffuseColor=\"1.000 1.000 1.000\" specularColor=\"0.5 0.5 0.5\">\n",
       "\n",
       "       </Material>\n",
       "\n",
       "      </Appearance>\n",
       "\n",
       "      <Sphere radius=\"0.31\">\n",
       "\n",
       "      </Sphere>\n",
       "\n",
       "     </Shape>\n",
       "\n",
       "    </Transform>\n",
       "\n",
       "   </Scene>\n",
       "\n",
       "  </X3D>\n",
       "\n",
       " </body>\n",
       "\n",
       "</html>\n",
       "\n"
      ],
      "text/plain": [
       "<IPython.core.display.HTML object>"
      ]
     },
     "execution_count": 20,
     "metadata": {},
     "output_type": "execute_result"
    }
   ],
   "source": [
    "# Let's have a look at the molecule....\n",
    "hooh.save_xyz_file('hooh_2.xyz',True)\n",
    "m = io.read('hooh_2.xyz')\n",
    "view(m,viewer='x3d')"
   ]
  },
  {
   "cell_type": "code",
   "execution_count": null,
   "metadata": {},
   "outputs": [],
   "source": []
  }
 ],
 "metadata": {
  "kernelspec": {
   "display_name": "p4env",
   "language": "python",
   "name": "p4env"
  },
  "language_info": {
   "codemirror_mode": {
    "name": "ipython",
    "version": 3
   },
   "file_extension": ".py",
   "mimetype": "text/x-python",
   "name": "python",
   "nbconvert_exporter": "python",
   "pygments_lexer": "ipython3",
   "version": "3.7.8"
  },
  "toc": {
   "base_numbering": 1,
   "nav_menu": {},
   "number_sections": true,
   "sideBar": true,
   "skip_h1_title": false,
   "title_cell": "Table of Contents",
   "title_sidebar": "Contents",
   "toc_cell": false,
   "toc_position": {},
   "toc_section_display": true,
   "toc_window_display": true
  }
 },
 "nbformat": 4,
 "nbformat_minor": 2
}
