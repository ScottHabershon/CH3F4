{
 "cells": [
  {
   "cell_type": "markdown",
   "metadata": {
    "solution": "hidden",
    "solution_first": true
   },
   "source": [
    "# CH3F4 Computational Chemistry Workshop 2023\n",
    "\n",
    "*DEADLINE: 12 NOON, 2 FEBRUARY 2023*\n",
    "\n",
    "**This workbook contains the questions to be completed for the CH3F4 (Molecular Structure and Dynamics) computational workshop in the 2022/2023 academic year.**\n",
    "\n",
    "In this workshop, we will use a python package called *psi4* to perform a series of different *ab initio* electronic structure calculations. *psi4* is a general-purpose electronic structure code which can do most of the sorts of calculations we've learnt about in CH3F4; it has the added advantage that we can run it through the same *Jupyter* notebooks that you are now familiar with after the *Python* courses in Years 1 and 2.\n",
    " \n",
    "**YOU SHOULD ANSWER ALL 6 QUESTIONS BELOW - INSTRUCTIONS FOR THE REQUIRED INFORMATION TO BE PROVIDED IN YOUR ANSWERS ARE GIVEN BELOW.**\n",
    "\n",
    "The questions are as follows:\n",
    "1. Geometry optimization of ammonia;\n",
    "2. Normal-mode analysis of ethanoic acid;\n",
    "3. Deriving an empirical force-field for the O-H stretch in water;\n",
    "4. Stability of cyclopropane and ethylene oxide;\n",
    "5. Reaction rate calculation for hydrogen-shift reaction.\n",
    "6. Explaining trends in the Diels-Alder reaction.\n",
    "\n",
    "\n",
    "## Instructions - READ THESE FIRST!!!\n",
    "\n",
    "1. First, you should make sure that you have access to a program which can be used to draw molecular structures and display the XYZ coordinates of each atom.\n",
    "\n",
    "I would strongly recommend using *Avogadro* for this: https://avogadro.cc\n",
    "\n",
    "*Avogadro* is free and works across different platforms (e.g. Windows, Mac). It is also very easy to use, and can export/display XYZ atomic coordinates. Depending on which version you use, it can also display input files for *psi4*.\n",
    "\n",
    "2. Next, you should spend some time going through the *psi4_examples.ipynb* example notbook which is contained in this directory.\n",
    "\n",
    "The *psi4_examples.ipynb* notebook contains a series of examples which use the *psi4* packaged to perform electronic structure calculations. These examples can be used as templates for performing your own calculations in this workshop. For example, the *psi4_examples.ipynb* notebook contains an example Hartree-Fock energy calculation - so, you can use the example set-up given there, copy it and modify the structure to perform similar Hartree-Fock calculations for any other molecules (as required below).\n",
    "\n",
    "You should run all of the cells in the *psi4_examples.ipynb* notebook and make sure you can see sensible outputs being given for each calculation. It will also be useful to have a look at the output files for each calculation to make sure that you can pick out the required bits of information from the calculation results.\n",
    "\n",
    "**Once you're happy with running the psi4_examples.ipynb example notebook, continue with this workshop....**\n",
    "\n",
    "3. Next, make a *local* copy of this workbook that you can edit with your calculations and results.\n",
    "\n",
    "\n",
    "4. Work through each question below, and fill in your answers in the spaces noted. In the case of both numerical and text answers, please make sure that the format of the answer box is \"Markdown\" (by changing the drop-down menu at the top of the page).\n",
    "\n",
    "**IMPORTANT POINT #1: Completing this workbook does not require any significant new code to be written! You should use the examples workbook to help set-up your calculations - the example setups given there include all of the calculation-types required here (i.e. energy calculation, geometry optimization, thermochemistry, and so on).**\n",
    "\n",
    "**IMPORTANT POINT #2: Please include all working and python code for your calculations. These should be input in the \"Python\" cells in the relevant answer sections. However, there is no need to include all output files for your calculations.**\n",
    "\n",
    "**IMPORTANT POINT #3: There are some cases below where you have to give data in tables, provide plots or fit a function to some data. You can either do these calculations directly in this notebook (e.g. using numpy and matplotlib, as you've used in other python notebooks) or you can use Excel/Origin and paste the results as a figure. I don't mind which you do - both are equally valid!**\n",
    "\n",
    "**IMPORTANT POINT #3: The awarded marks given to each question are illustrated below. Note that presentation of figures and tables is also important - make sure your tables and figures are publication quality, with axes labelled correctly (including units).**\n",
    "\n",
    "## What should I hand in?\n",
    "\n",
    "You should submit a pdf version of your completed *Jupyter notebook*. To make a pdf version, click on \"File\" then \"Download as\" and \"PDF via Latex\". This should download a pdf file of your completed workbook.\n",
    "\n",
    "**Note that you should run all python cells to generate your final completed workbook before creating the pdf!**\n",
    "\n",
    "## General hints and tips\n",
    "\n",
    "The following hints and tips should be useful:\n",
    "\n",
    "- When giving energy values, it is best to leave these in atomic units (Hartrees).\n",
    "\n",
    "\n",
    "- When giving energy differences (e.g. barrier heights), please convert to kJ/mol. Remember: 1 Hartree = 2625.5 kJ/mol, so to convert from Hartree to kJ/mol, you multiply by 2625.5.\n",
    "\n",
    "\n",
    "- Distances should be given in Angstroms, and angles should be in degrees.\n",
    "\n",
    "\n",
    "- You may also need to know the atomic unit for mass. Here, 1 atomic unit of mass is equal to the mass of the electron ($m_{e} = 9.109 \\times 10^{-31}$ kg).\n",
    "\n",
    "\n",
    "- If you find that some calculations crash and complain about symmetry, add the following on the last line of the \"psi4.geometry\":\n",
    "\n",
    "        symmetry c1\n",
    "        \n",
    "\n",
    "- If you need to add more python or text cells to accommodate your answer, that's fine! Just use the \"Insert\" menu above, and make sure to change the cell type to either \"Code\" or \"Markdown\" (in the drop-down menu above) as appropriate.\n",
    "\n",
    "\n",
    "- Once I'd completed my own answers to this workshop, the entire workbook took about 10 minutes to run on a Macbook air....if your answers take significantly longer to run than this, there might be a problem!\n"
   ]
  },
  {
   "cell_type": "markdown",
   "metadata": {},
   "source": [
    "## Notebook setup\n",
    "\n",
    "The following cell imports the essential *Python* modules required for this workshop.\n",
    "\n",
    "**DO NOT CHANGE - YOU MUST RUN THESE CELLS BEFORE ANYTHING ELSE!**\n",
    "\n",
    "Without running this \"setup\" cell, *psi4* will not work correctly!"
   ]
  },
  {
   "cell_type": "code",
   "execution_count": 4,
   "metadata": {},
   "outputs": [
    {
     "name": "stdout",
     "output_type": "stream",
     "text": [
      "\n",
      "  Memory set to   1.863 GiB by Python driver.\n"
     ]
    }
   ],
   "source": [
    "# Import the psi4, numpy, matplotlib.\n",
    "import psi4\n",
    "psi4.set_memory('2 GB');\n",
    "import numpy as np\n",
    "from pylab import *\n",
    "import matplotlib.pyplot as plt"
   ]
  },
  {
   "cell_type": "markdown",
   "metadata": {},
   "source": [
    "# Question 1 [10%]\n",
    "\n",
    "In this question, we're going to start off with some warm-up calculations on the ammonia molecule. First, we're going to calculate the energy, then we'll perform geometry optimization. Finally, we'll calculate the energetic barrier to umbrella inversion of ammonia."
   ]
  },
  {
   "cell_type": "markdown",
   "metadata": {
    "solution": "hidden",
    "solution_first": true
   },
   "source": [
    "## Question 1(a)\n",
    "\n",
    "Create an ammonia molecule model using *Avogardo* (or similar code), and then calculate the energy of your molecule; for this calculation, using Hartree-Fock with a *cc-pvdz* basis set.\n",
    "\n",
    "In the following box, enter the following information:\n",
    "1. The total energy of ammonia;\n",
    "\n",
    "2. The distance between nitrogen and one of the hydrogen atoms;\n",
    "\n",
    "3. The H-N-H bond angle."
   ]
  },
  {
   "cell_type": "markdown",
   "metadata": {},
   "source": [
    "### ANSWER TO Question 1(a)"
   ]
  },
  {
   "cell_type": "code",
   "execution_count": 19,
   "metadata": {},
   "outputs": [],
   "source": [
    "# Python code for Q1(a).\n"
   ]
  },
  {
   "cell_type": "markdown",
   "metadata": {},
   "source": [
    "*TEXT GOES HERE*"
   ]
  },
  {
   "cell_type": "markdown",
   "metadata": {},
   "source": [
    "## Question 1(b)\n",
    "\n",
    "Now, using the same calculation set-up, perform a *geometry optimization* calculation for your ammonia model.\n",
    "\n",
    "In the following box, enter:\n",
    "\n",
    "1. The total energy of your optimized ammonia molecule;\n",
    "\n",
    "2. The distance between nitrogen and one of the hydrogen atoms;\n",
    "\n",
    "3. The H-N-H bond angle.\n"
   ]
  },
  {
   "cell_type": "markdown",
   "metadata": {},
   "source": [
    "### ANSWER TO Question 1(b)"
   ]
  },
  {
   "cell_type": "code",
   "execution_count": 20,
   "metadata": {},
   "outputs": [],
   "source": [
    "# Python code for Q1(b)\n",
    "\n"
   ]
  },
  {
   "cell_type": "markdown",
   "metadata": {},
   "source": [
    "*TEXT GOES HERE*"
   ]
  },
  {
   "cell_type": "markdown",
   "metadata": {},
   "source": [
    "## Question 1(c)\n",
    "\n",
    "As show in the Figure below, ammonia undergoes a dynamic process called umbrella inversion, where the hydrogen atoms \"flip\" through the plane of the molecule. This inversion proceeds through a transition-state with *C<sub>3v<sub>* geometry.\n",
    "\n",
    "<img src=\"640px-Nitrogen-inversion-3D-balls.png\">\n",
    "\n",
    "At the same level of theory as used above: \n",
    "\n",
    "1. Calculate the energy of the transition-state;\n",
    "\n",
    "2. Calculate the energy difference (in kJ/mol) between the transition-state and your optimized structure from Question 1(b).\n",
    "\n",
    "3. Using the calculated energy difference, calculate the Boltzmann population of the transition-state relative to the optimized geometry of Question 1(b). For this calculation, you should use a temperature of *T* = 300 K."
   ]
  },
  {
   "cell_type": "markdown",
   "metadata": {},
   "source": [
    "### ANSWER TO Question 1(c)"
   ]
  },
  {
   "cell_type": "code",
   "execution_count": 21,
   "metadata": {},
   "outputs": [],
   "source": [
    "# Python code for Q1(c)\n",
    "\n"
   ]
  },
  {
   "cell_type": "markdown",
   "metadata": {},
   "source": [
    "*TEXT GOES HERE*"
   ]
  },
  {
   "cell_type": "markdown",
   "metadata": {},
   "source": [
    "# Question 2 [20%]\n",
    "\n",
    "Ethanoic acid (skeletal structure given below) is probably very familiar to you. In this question, we are going to perform a normal-mode analysis for ethanoic acid, and use the results to derive a *scaling factor* which can be used to bring calculated predictions into better agreement with experiment.\n",
    "\n",
    "<img src=\"Acetic-acid-2D-skeletal.svg\" width=\"150\">\n",
    "\n",
    "For the following calculations, you should use Hartree-Fock with a cc-pVDZ basis set.\n"
   ]
  },
  {
   "cell_type": "markdown",
   "metadata": {},
   "source": [
    "## Question 2(a)\n",
    "\n",
    "1. First, generate atomic coordinates with a molecular modelling code such as *Avogadro*.\n",
    "\n",
    "2. Starting from your initial model, perform a geometry optimization calculation; **report the energy of your final optimized geometry below**."
   ]
  },
  {
   "cell_type": "markdown",
   "metadata": {},
   "source": [
    "### ANSWER TO Question 2(a)"
   ]
  },
  {
   "cell_type": "code",
   "execution_count": 22,
   "metadata": {},
   "outputs": [],
   "source": [
    "# Python code for Q2(a)\n",
    "\n"
   ]
  },
  {
   "cell_type": "code",
   "execution_count": null,
   "metadata": {},
   "outputs": [],
   "source": []
  },
  {
   "cell_type": "markdown",
   "metadata": {},
   "source": [
    "*TEXT GOES HERE*"
   ]
  },
  {
   "cell_type": "markdown",
   "metadata": {},
   "source": [
    "## Question 2(b)\n",
    "\n",
    "1. For your optimized geometry, perform a normal-mode frequency calculation; **report your calculated vibrational frequencies (in cm<sup>-1 </sup> ) in the form of a table** (see below for table format).\n",
    "\n",
    "**Question 2(b) HINT**\n",
    "\n",
    "To create a table listing your results, you can copy and edit the following table template (*double-click this cell to see the code*):\n",
    "\n",
    "| Heading 1      | Heading 2 |\n",
    "| ----------- | ----------- |\n",
    "| 1.0      | 9.6       |\n",
    "| 1.34   | 9.8        |\n",
    "\n"
   ]
  },
  {
   "cell_type": "markdown",
   "metadata": {},
   "source": [
    "### ANSWER TO Question 2(b)"
   ]
  },
  {
   "cell_type": "code",
   "execution_count": 30,
   "metadata": {},
   "outputs": [],
   "source": [
    "# Python code for Q2(b).\n",
    "\n"
   ]
  },
  {
   "cell_type": "markdown",
   "metadata": {},
   "source": [
    "*TEXT GOES HERE*\n"
   ]
  },
  {
   "cell_type": "markdown",
   "metadata": {},
   "source": [
    "## Question 2(c)\n",
    "\n",
    "1. Experimentally, the *observed* vibrational frequencies of gas-phase ethanoic acid are reported in the following table:\n",
    "\n",
    "| Experimental vibrational frequency / cm<sup>-1 </sup> |\n",
    "| :-----------: |\n",
    "|   3583           |\n",
    "|   1788     |\n",
    "|   1382 |\n",
    "|   1264 |\n",
    "|   1182 |\n",
    "\n",
    "Note that these are the *strongest* absorptions - the others are likely too weak to be observed experimentally.\n",
    "\n",
    "Typically, the vibrational frequencies calculated by *ab initio* calculations are too high relative to experimental frequencies; as such, computational chemists often derive formulae which correct *ab initio* predictions to bring them into better agreement with known experimental measurements. \n",
    "\n",
    "Derive a *scaling relation* which relates your calculated frequencies to the experimental frequencies. \n",
    "\n",
    "**Hint #1: Your scaling relation should be of the form:** \n",
    "\n",
    "$$f^{expt} = m f^{calc} + c$$\n",
    "\n",
    "where *m* and *c* are fit to give best agreement between calculated and experimental frequencies. **Make sure to report your fitted values for the slope and intercept.**\n",
    "\n",
    "**Hint #2: You can perform this fitting in either Excel/Origin or directly in this notebook itself (using numpy). Either approach is equally acceptable.**\n",
    "\n",
    "2. Provide a table showing the experimental frequencies and the calculated frequencies given by your scaling relation.\n",
    "\n",
    "3. Provide a plot which contains your *ab initio* frequencies (*x*) and the *experimental* frequencies (*y*). In addition, you should plot a line corresponding to your derived scaling relation.\n",
    "\n",
    "**Hint #3: You can draw this plot using either Excel/Origin (or similar) and then pasting the resulting figure below, or you can use matplotlib directly below to create a figure.**\n"
   ]
  },
  {
   "cell_type": "markdown",
   "metadata": {},
   "source": [
    "### ANSWER TO Question 2(c)"
   ]
  },
  {
   "cell_type": "code",
   "execution_count": 24,
   "metadata": {},
   "outputs": [],
   "source": [
    "# Python code for Q2(c) [OPTIONAL - IF USING MATPLOTLIB]\n"
   ]
  },
  {
   "cell_type": "markdown",
   "metadata": {},
   "source": [
    "*TEXT GOES HERE*"
   ]
  },
  {
   "cell_type": "markdown",
   "metadata": {},
   "source": [
    "## Question 2(d)\n",
    "\n",
    "1. Provide a *brief* explanation as to why *ab initio* calculations typically predict vibrational frequencies which are too high relative to experimental measurements."
   ]
  },
  {
   "cell_type": "markdown",
   "metadata": {},
   "source": [
    "### ANSWER TO Question 2(d)"
   ]
  },
  {
   "cell_type": "markdown",
   "metadata": {},
   "source": [
    "*TEXT GOES HERE*"
   ]
  },
  {
   "cell_type": "markdown",
   "metadata": {},
   "source": [
    "# Question 3 [20%]\n",
    "\n",
    "A common application of molecular *ab initio* calculations is in deriving the parameters of *empirical force-fields* such as those that you have learnt about in module CH3F1. Empirical force-fields tend to be much faster to evaluate than *ab initio* calculations, so using force-fields is preferred when one is interested in use-cases which require many energy and force evaluations - molecular dynamics simulations are a good example of such an application.\n",
    "\n",
    "In this question, we are going to use *ab initio* calculations to derive a harmonic force-field representing the bond-stretching potential of a water molecular."
   ]
  },
  {
   "cell_type": "markdown",
   "metadata": {},
   "source": [
    "## Question 3(a)\n",
    "\n",
    "First, we are going to look at how the calculated properties of a water molecule (in vacuum) change as we change the basis set size.\n",
    "\n",
    "Perform a series of **4** geometry-optimization calculations for a single H<sub>2</sub>O molecule, using Hartree-Fock theory and the following basis sets:\n",
    "    \n",
    "1. 3-21G\n",
    "2. 6-31G\n",
    "3. 6-31G*\n",
    "4. 6-31G**\n",
    "\n",
    "Report the results of your calculations in a table giving:\n",
    "\n",
    "(a) The calculated energy at the optimized geometry;\n",
    "\n",
    "(b) The O-H bond length at the optimized geometry;\n",
    "\n",
    "(c) The H-O-H bond-angle at the optimized geometry;\n",
    "\n",
    "**In addition**, give a brief explanation of any trends observed in your calculation results."
   ]
  },
  {
   "cell_type": "markdown",
   "metadata": {},
   "source": [
    "## ANSWER TO Question 3(a)"
   ]
  },
  {
   "cell_type": "code",
   "execution_count": 25,
   "metadata": {},
   "outputs": [],
   "source": [
    "# Python code for Q3(a).\n"
   ]
  },
  {
   "cell_type": "markdown",
   "metadata": {},
   "source": [
    "*TEXT GOES HERE*"
   ]
  },
  {
   "cell_type": "markdown",
   "metadata": {},
   "source": [
    "## Question 3(b)\n",
    "\n",
    "We are now going to derive a simple empirical force-field which can model the O-H stretching potential energy surface in a water molecule. To do this, we’ll perform a series of *ab initio* calculations for a series of distorted water molecule geometries. We will then use these calculations to derive the parameters of two empirical force-field functions\n",
    "\n",
    "1. Optimize the geometry of a water molecule at the MP2 level of theory with a 6-31G** basis set. **Provide the optimized energy - this will be taken as our “zero” of energy in our empirical force-field.** \n",
    "\n",
    "\n",
    "2. Next, perform a series of energy calculations (say 10-15) as you vary one of the O-H bond lengths from 0.9 Å to 1.1 Å - note that these should not be geometry optimization calculations, but just standard energy calculations with only **1** of the O-H distances being varied. **Provide a table of the MP2 energy as a function of the bond-distance.**\n",
    "\n",
    "<span style=\"color:red\">\n",
    "In these calculations above, it is important to make sure that you only change one of the O-H bond lengths for each calculation; the other O-H bond length should remain fixed at its value in the MP2 optimized geometry. The H-O-H angle must also stay at its MP2 optimized value!\n",
    "</span>\n",
    "\n",
    "3. Plot a graph of the MP2 energies relative to the minimum geometry as a function of O-H bond distance. In other words, the *x*-axis should be $(r - r^{min})$, where $r^{min}$ is the bond-length at the minimum=energy geometry, and the *y*-axis should be $V(r)-V(r^{min})$, where $V(r^{min})$ is the calculated energy at the minimum-energy geometry.   \n",
    "\n",
    "**Hint #1: Again, using Excel/Origin for data processing and plotting is fine; you can also use numpy/matplotlib if you'd like. Both approaches are equally acceptable.**\n",
    "\n",
    "**Hint #2: As above, you can create the required plots using Excel/Origin, or using numpy/matplotlib.**"
   ]
  },
  {
   "cell_type": "markdown",
   "metadata": {},
   "source": [
    "## ANSWER TO Question 3(b)"
   ]
  },
  {
   "cell_type": "code",
   "execution_count": 26,
   "metadata": {},
   "outputs": [],
   "source": [
    "# Python code for calculations \n"
   ]
  },
  {
   "cell_type": "markdown",
   "metadata": {},
   "source": [
    "*TEXT GOES HERE*"
   ]
  },
  {
   "cell_type": "markdown",
   "metadata": {},
   "source": [
    "## Question 3(c)\n",
    "\n",
    "From Q3(b), you now have some target data for fitting an empirical force-field describing stretching of the O-H bond - we will derive the parameters of this force-field by fitting a functional form to the *ab initio* data.\n",
    "\n",
    "\n",
    "1. Assume that the function describing the potential energy variation with bond-distance is of the harmonic form,\n",
    "\n",
    "$$V(r) = V(r^{min}) + \\frac{1}{2}k(r - r^{min})^{2}$$\n",
    "\n",
    "or, equivalently,\n",
    "\n",
    "$$V(r) - V(r^{min}) = \\frac{1}{2}k(r - r^{min})^{2}.$$\n",
    "\n",
    "Using the data you calculated above, determine the force-constant $k$ and give the answer in Hartree/Ang$^2$.\n",
    "\n",
    "**Hint #1: The simplest way to determine $k$ is to fit a straight line to your data. Alternatively, you can fit a function of the form $ax^2$. As above, using either Excel/Origin or numpy/matplotlib are equally valid approaches.**\n",
    "\n",
    "\n",
    "2. Plot your original data **and** your fitted function on a single graph.\n",
    "\n",
    "\n",
    "3. Use your calculated force constant $k$ to calculate the harmonic vibrational frequency of the stretching motion, given that the reduced mass of this motion is about 1730 atomic units. Express your answer in cm$^{-1}$."
   ]
  },
  {
   "cell_type": "markdown",
   "metadata": {},
   "source": [
    "## ANSWER TO Question 3(c)"
   ]
  },
  {
   "cell_type": "code",
   "execution_count": 27,
   "metadata": {},
   "outputs": [],
   "source": [
    "# Optional python code goes here..."
   ]
  },
  {
   "cell_type": "markdown",
   "metadata": {},
   "source": [
    "*TEXT GOES HERE*"
   ]
  },
  {
   "cell_type": "markdown",
   "metadata": {},
   "source": [
    "# Question 4 [10%]\n",
    "\n",
    "In an *isodesmic* reaction, the number and types of bonds are conserved on the reactant and product sides of the reaction. This helps ensure that a similar amount of electron correlation is present on both sides of the reaction; as a result, when we calculate thermodynamic properties, such as enthalpy changes, we can achieve good accuracy even when we use relatively low-level theories such as Hartree-Fock.\n",
    "\n",
    "An example of an isodesmic reaction is\n",
    "\n",
    "$\\text{CH}_{2}\\text{F}_{2} + \\text{CH}_{4} \\rightarrow 2 \\text{CH}_{3}\\text{F}$\n",
    "\n",
    "Here, the reactant side has two C-F single bonds and 6 C-H single bonds; the product side has the same number of C-F and C-H bonds.\n",
    "\n",
    "In this question, we are going to consider a comparison of the ring strain in cyclopropane and ethylene oxide: \n",
    "\n",
    "<img src=\"./Picture1.png\" width=\"250\">\n",
    "\n",
    "1. Suggest a (balanced) isodesmic reaction scheme which could be used to determine whether ethylene oxide or cyclopropane has less ring-strain. \n",
    "\n",
    "**Hint #1: Your isodesmic reaction should have ethylene oxide on one side and cyclopropane on the other; the energy change in the reaction will tell you which is more stable (less strained).**\n",
    "\n",
    "2. Use Hartree-Fock calculations, with a 6-31G* basis set, to evaluate the total energies of the reactant and product sides in your isodesmic scheme in order to determine the relative ring-strain of cyclopropane and ethylene oxide. **Report the calculated energies for all molecules in your isodesmic reaction, and give the energy change for your reaction - make sure to explain how you determined the relative ring-strain.**\n",
    "\n",
    "**Hint #2: In answering this question, you need to run energy calculations for all molecules in your proposed isodesmic scheme; there should be 4 such calculations.**"
   ]
  },
  {
   "cell_type": "markdown",
   "metadata": {},
   "source": [
    "## ANSWER TO Question 4"
   ]
  },
  {
   "cell_type": "markdown",
   "metadata": {},
   "source": [
    "*TEXT GOES HERE*"
   ]
  },
  {
   "cell_type": "code",
   "execution_count": 28,
   "metadata": {},
   "outputs": [],
   "source": [
    "# Python code for Q4."
   ]
  },
  {
   "cell_type": "markdown",
   "metadata": {},
   "source": [
    "*TEXT GOES HERE*"
   ]
  },
  {
   "cell_type": "markdown",
   "metadata": {},
   "source": [
    "# Question 5 [20%]\n",
    "\n",
    "Calculate the Gibbs free energy of activation at 298 K **and** the transition-state theory (TST) reaction rate constant (in s$^{-1}$) for the symmetric S$_{N}$2 reaction of Cl$^{-}$ with CH$_{3}$Cl.\n",
    "\n",
    "For your calculations, you should use Hartree-Fock with the 6-31G* basis set.\n",
    "\n",
    "In your answer, provide a brief rationale for the calculations you've performed; you should also give the energies of calculated structures and show your working to calculate the TST rate.\n",
    "\n",
    "**Hint #1: By default, psi4 uses the correct temperature of 298 K in its thermochemistry calculations.**\n",
    "\n",
    "**Hint #2: Remember to account for the correct total charge on the system when defining your geometry for psi4 input.**\n",
    "\n",
    "**Hint #3: If you are having trouble converging geometries, add the following command before \"psi4.optimize\"**\n",
    "\n",
    "        psi4.set_options({'opt_coordinates': 'both'})\n"
   ]
  },
  {
   "cell_type": "markdown",
   "metadata": {},
   "source": [
    "## ANSWER TO Question 5"
   ]
  },
  {
   "cell_type": "code",
   "execution_count": 5,
   "metadata": {},
   "outputs": [],
   "source": [
    "# Python code for Q5.\n"
   ]
  },
  {
   "cell_type": "markdown",
   "metadata": {},
   "source": [
    "*TEXT GOES HERE*"
   ]
  },
  {
   "cell_type": "markdown",
   "metadata": {},
   "source": [
    "# Question 6 [20%]\n",
    "\n",
    "In a Diels-Alder reaction between cyclopentadiene and three different alkenes, the relative rates of reaction were observed as follows:\n",
    "\n",
    "| Alkene      | Relative reaction rate |\n",
    "| ----------- | ----------- |\n",
    "| Ethene      | $6 \\times 10^{-6}$       |\n",
    "| Cyanoethene | 1.0        |\n",
    "| Tetracyanoethene | $4.3 \\times 10^{7}$ |\n",
    "\n",
    "Using HF calculations (with a *cc-pVDZ* basis set) for the series of molecules in the table above, explain the observed reaction rates with reference to the alkene orbital energies.\n",
    "\n",
    "**Hint 1: Think about the LUMO energies of the alkenes, and how that might influence the rate of the Diels-Alder reaction. You do NOT need to calculate any reaction activation barriers.**\n",
    "\n",
    "**Hint 2: The orbital energies are available in the psi-4 output files.**\n",
    "\n",
    "\n"
   ]
  },
  {
   "cell_type": "markdown",
   "metadata": {},
   "source": [
    "## ANSWER TO Question 6"
   ]
  },
  {
   "cell_type": "code",
   "execution_count": 1,
   "metadata": {},
   "outputs": [],
   "source": [
    "# Python code for Q6.\n"
   ]
  },
  {
   "cell_type": "markdown",
   "metadata": {},
   "source": [
    "*TEXT GOES HERE*"
   ]
  },
  {
   "cell_type": "code",
   "execution_count": null,
   "metadata": {},
   "outputs": [],
   "source": []
  }
 ],
 "metadata": {
  "kernelspec": {
   "display_name": "Python [conda env:p4env] *",
   "language": "python",
   "name": "conda-env-p4env-py"
  },
  "language_info": {
   "codemirror_mode": {
    "name": "ipython",
    "version": 3
   },
   "file_extension": ".py",
   "mimetype": "text/x-python",
   "name": "python",
   "nbconvert_exporter": "python",
   "pygments_lexer": "ipython3",
   "version": "3.10.8"
  },
  "toc": {
   "base_numbering": 1,
   "nav_menu": {},
   "number_sections": true,
   "sideBar": true,
   "skip_h1_title": false,
   "title_cell": "Table of Contents",
   "title_sidebar": "Contents",
   "toc_cell": false,
   "toc_position": {},
   "toc_section_display": true,
   "toc_window_display": true
  }
 },
 "nbformat": 4,
 "nbformat_minor": 2
}
